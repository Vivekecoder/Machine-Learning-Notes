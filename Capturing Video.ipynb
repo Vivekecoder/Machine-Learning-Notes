{
 "cells": [
  {
   "cell_type": "code",
   "execution_count": 1,
   "id": "9a3f5939",
   "metadata": {},
   "outputs": [],
   "source": [
    "import cv2"
   ]
  },
  {
   "cell_type": "code",
   "execution_count": 14,
   "id": "662300e3",
   "metadata": {},
   "outputs": [],
   "source": [
    "cap = cv2.VideoCapture('pexels-peter-fowler-6394054 (Original).mp4')\n",
    "while True:\n",
    "    ret, frame = cap.read()\n",
    "    if ret:\n",
    "        frame=cv2.resize(frame,(800,500))\n",
    "        cv2.imshow('Nature Video', frame)\n",
    "        if cv2.waitKey(25) & 0xFF == ord('q'):\n",
    "            break\n",
    "    else:\n",
    "        print('Bye')\n",
    "cv2.destroyAllWindows()"
   ]
  },
  {
   "cell_type": "code",
   "execution_count": null,
   "id": "ddb94fa5",
   "metadata": {},
   "outputs": [],
   "source": [
    "video=cv2.VideoCapture('production_id_4062018 (1080p).mp4')\n",
    "while video.isOpened():\n",
    "    ret,mat=video.read()\n",
    "    if ret:\n",
    "        frame=cv2.resize(mat,(800,600))\n",
    "        cv2.imshow('Nature-video',frame)\n",
    "        if cv2.waitKey(1) & 0xFF==ord('x'):\n",
    "            break\n",
    "cv2.destroyAllWindows()"
   ]
  },
  {
   "cell_type": "code",
   "execution_count": 2,
   "id": "7835b8ee",
   "metadata": {},
   "outputs": [],
   "source": [
    "import numpy as np"
   ]
  },
  {
   "cell_type": "code",
   "execution_count": 5,
   "id": "46731db6",
   "metadata": {},
   "outputs": [],
   "source": [
    "img1=cv2.imread('pic1.jpg')\n",
    "img2=cv2.imread('pic2.jpg')\n",
    "img1=cv2.resize(img1,(400,400))\n",
    "img2=cv2.resize(img2,(400,400))\n",
    "img3=np.hstack((img1,img2))\n",
    "cv2.imshow('Collage',img3)\n",
    "cv2.imwrite('Collage.jpg',img3)\n",
    "cv2.waitKey(0)\n",
    "cv2.destroyAllWindows()"
   ]
  },
  {
   "cell_type": "code",
   "execution_count": null,
   "id": "cd45b954",
   "metadata": {},
   "outputs": [],
   "source": []
  }
 ],
 "metadata": {
  "kernelspec": {
   "display_name": "Python 3 (ipykernel)",
   "language": "python",
   "name": "python3"
  },
  "language_info": {
   "codemirror_mode": {
    "name": "ipython",
    "version": 3
   },
   "file_extension": ".py",
   "mimetype": "text/x-python",
   "name": "python",
   "nbconvert_exporter": "python",
   "pygments_lexer": "ipython3",
   "version": "3.11.5"
  }
 },
 "nbformat": 4,
 "nbformat_minor": 5
}
