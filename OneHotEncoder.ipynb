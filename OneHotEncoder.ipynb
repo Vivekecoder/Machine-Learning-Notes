{
 "cells": [
  {
   "cell_type": "code",
   "execution_count": 1,
   "id": "1cb1c358",
   "metadata": {},
   "outputs": [],
   "source": [
    "import pandas as pd\n",
    "import numpy as np"
   ]
  },
  {
   "cell_type": "code",
   "execution_count": 3,
   "id": "6b80e419",
   "metadata": {},
   "outputs": [],
   "source": [
    "c1=np.random.randint(1,500,50)"
   ]
  },
  {
   "cell_type": "code",
   "execution_count": 5,
   "id": "f2223f91",
   "metadata": {},
   "outputs": [],
   "source": [
    "categ=['A','X','W']"
   ]
  },
  {
   "cell_type": "code",
   "execution_count": 7,
   "id": "564ea48b",
   "metadata": {},
   "outputs": [],
   "source": [
    "c2=np.random.choice(categ,50)"
   ]
  },
  {
   "cell_type": "code",
   "execution_count": 18,
   "id": "bed10d4a",
   "metadata": {},
   "outputs": [
    {
     "data": {
      "text/plain": [
       "array([['1', 'X'],\n",
       "       ['2', 'A'],\n",
       "       ['3', 'X'],\n",
       "       ['4', 'W'],\n",
       "       ['5', 'W'],\n",
       "       ['6', 'W'],\n",
       "       ['7', 'A'],\n",
       "       ['8', 'X'],\n",
       "       ['9', 'X'],\n",
       "       ['10', 'W'],\n",
       "       ['11', 'A'],\n",
       "       ['12', 'A'],\n",
       "       ['13', 'X'],\n",
       "       ['14', 'X'],\n",
       "       ['15', 'X'],\n",
       "       ['16', 'A'],\n",
       "       ['17', 'W'],\n",
       "       ['18', 'W'],\n",
       "       ['19', 'A'],\n",
       "       ['20', 'W'],\n",
       "       ['21', 'A'],\n",
       "       ['22', 'X'],\n",
       "       ['23', 'X'],\n",
       "       ['24', 'W'],\n",
       "       ['25', 'X'],\n",
       "       ['26', 'W'],\n",
       "       ['27', 'X'],\n",
       "       ['28', 'X'],\n",
       "       ['29', 'A'],\n",
       "       ['30', 'X'],\n",
       "       ['31', 'X'],\n",
       "       ['32', 'A'],\n",
       "       ['33', 'W'],\n",
       "       ['34', 'X'],\n",
       "       ['35', 'W'],\n",
       "       ['36', 'A'],\n",
       "       ['37', 'W'],\n",
       "       ['38', 'W'],\n",
       "       ['39', 'W'],\n",
       "       ['40', 'A'],\n",
       "       ['41', 'X'],\n",
       "       ['42', 'A'],\n",
       "       ['43', 'W'],\n",
       "       ['44', 'A'],\n",
       "       ['45', 'A'],\n",
       "       ['46', 'A'],\n",
       "       ['47', 'W'],\n",
       "       ['48', 'A'],\n",
       "       ['49', 'W'],\n",
       "       ['50', 'X']], dtype='<U11')"
      ]
     },
     "execution_count": 18,
     "metadata": {},
     "output_type": "execute_result"
    }
   ],
   "source": [
    "np.c_[c1,c2]"
   ]
  },
  {
   "cell_type": "code",
   "execution_count": 9,
   "id": "6b592ffc",
   "metadata": {},
   "outputs": [],
   "source": [
    "df1=pd.DataFrame(np.c_[c1,c2],columns=['Val1','Val2'])"
   ]
  },
  {
   "cell_type": "code",
   "execution_count": 10,
   "id": "edba1e5a",
   "metadata": {},
   "outputs": [],
   "source": [
    "from sklearn.preprocessing import OneHotEncoder"
   ]
  },
  {
   "cell_type": "code",
   "execution_count": 12,
   "id": "26c302c3",
   "metadata": {},
   "outputs": [
    {
     "data": {
      "text/html": [
       "<div>\n",
       "<style scoped>\n",
       "    .dataframe tbody tr th:only-of-type {\n",
       "        vertical-align: middle;\n",
       "    }\n",
       "\n",
       "    .dataframe tbody tr th {\n",
       "        vertical-align: top;\n",
       "    }\n",
       "\n",
       "    .dataframe thead th {\n",
       "        text-align: right;\n",
       "    }\n",
       "</style>\n",
       "<table border=\"1\" class=\"dataframe\">\n",
       "  <thead>\n",
       "    <tr style=\"text-align: right;\">\n",
       "      <th></th>\n",
       "      <th>Val1</th>\n",
       "      <th>Val2</th>\n",
       "    </tr>\n",
       "  </thead>\n",
       "  <tbody>\n",
       "    <tr>\n",
       "      <th>0</th>\n",
       "      <td>1</td>\n",
       "      <td>X</td>\n",
       "    </tr>\n",
       "    <tr>\n",
       "      <th>1</th>\n",
       "      <td>2</td>\n",
       "      <td>A</td>\n",
       "    </tr>\n",
       "    <tr>\n",
       "      <th>2</th>\n",
       "      <td>3</td>\n",
       "      <td>X</td>\n",
       "    </tr>\n",
       "    <tr>\n",
       "      <th>3</th>\n",
       "      <td>4</td>\n",
       "      <td>W</td>\n",
       "    </tr>\n",
       "    <tr>\n",
       "      <th>4</th>\n",
       "      <td>5</td>\n",
       "      <td>W</td>\n",
       "    </tr>\n",
       "  </tbody>\n",
       "</table>\n",
       "</div>"
      ],
      "text/plain": [
       "  Val1 Val2\n",
       "0    1    X\n",
       "1    2    A\n",
       "2    3    X\n",
       "3    4    W\n",
       "4    5    W"
      ]
     },
     "execution_count": 12,
     "metadata": {},
     "output_type": "execute_result"
    }
   ],
   "source": [
    "df1.head()"
   ]
  },
  {
   "cell_type": "code",
   "execution_count": 11,
   "id": "a85183d8",
   "metadata": {},
   "outputs": [],
   "source": [
    "obj=OneHotEncoder()"
   ]
  },
  {
   "cell_type": "code",
   "execution_count": 16,
   "id": "913c5bfd",
   "metadata": {},
   "outputs": [],
   "source": [
    "arr=obj.fit_transform(df1[['Val2']])"
   ]
  },
  {
   "cell_type": "code",
   "execution_count": 17,
   "id": "531dd249",
   "metadata": {},
   "outputs": [
    {
     "data": {
      "text/plain": [
       "array([[0., 0., 1.],\n",
       "       [1., 0., 0.],\n",
       "       [0., 0., 1.],\n",
       "       [0., 1., 0.],\n",
       "       [0., 1., 0.],\n",
       "       [0., 1., 0.],\n",
       "       [1., 0., 0.],\n",
       "       [0., 0., 1.],\n",
       "       [0., 0., 1.],\n",
       "       [0., 1., 0.],\n",
       "       [1., 0., 0.],\n",
       "       [1., 0., 0.],\n",
       "       [0., 0., 1.],\n",
       "       [0., 0., 1.],\n",
       "       [0., 0., 1.],\n",
       "       [1., 0., 0.],\n",
       "       [0., 1., 0.],\n",
       "       [0., 1., 0.],\n",
       "       [1., 0., 0.],\n",
       "       [0., 1., 0.],\n",
       "       [1., 0., 0.],\n",
       "       [0., 0., 1.],\n",
       "       [0., 0., 1.],\n",
       "       [0., 1., 0.],\n",
       "       [0., 0., 1.],\n",
       "       [0., 1., 0.],\n",
       "       [0., 0., 1.],\n",
       "       [0., 0., 1.],\n",
       "       [1., 0., 0.],\n",
       "       [0., 0., 1.],\n",
       "       [0., 0., 1.],\n",
       "       [1., 0., 0.],\n",
       "       [0., 1., 0.],\n",
       "       [0., 0., 1.],\n",
       "       [0., 1., 0.],\n",
       "       [1., 0., 0.],\n",
       "       [0., 1., 0.],\n",
       "       [0., 1., 0.],\n",
       "       [0., 1., 0.],\n",
       "       [1., 0., 0.],\n",
       "       [0., 0., 1.],\n",
       "       [1., 0., 0.],\n",
       "       [0., 1., 0.],\n",
       "       [1., 0., 0.],\n",
       "       [1., 0., 0.],\n",
       "       [1., 0., 0.],\n",
       "       [0., 1., 0.],\n",
       "       [1., 0., 0.],\n",
       "       [0., 1., 0.],\n",
       "       [0., 0., 1.]])"
      ]
     },
     "execution_count": 17,
     "metadata": {},
     "output_type": "execute_result"
    }
   ],
   "source": [
    "arr.toarray()"
   ]
  },
  {
   "cell_type": "code",
   "execution_count": null,
   "id": "58ca5207",
   "metadata": {},
   "outputs": [],
   "source": []
  }
 ],
 "metadata": {
  "kernelspec": {
   "display_name": "Python 3 (ipykernel)",
   "language": "python",
   "name": "python3"
  },
  "language_info": {
   "codemirror_mode": {
    "name": "ipython",
    "version": 3
   },
   "file_extension": ".py",
   "mimetype": "text/x-python",
   "name": "python",
   "nbconvert_exporter": "python",
   "pygments_lexer": "ipython3",
   "version": "3.11.5"
  }
 },
 "nbformat": 4,
 "nbformat_minor": 5
}
