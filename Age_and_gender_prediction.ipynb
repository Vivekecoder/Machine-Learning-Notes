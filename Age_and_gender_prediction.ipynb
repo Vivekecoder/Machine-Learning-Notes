{
 "cells": [
  {
   "cell_type": "code",
   "execution_count": 1,
   "metadata": {
    "colab": {
     "base_uri": "https://localhost:8080/",
     "height": 270
    },
    "id": "P_XTLyRMD3-s",
    "outputId": "763de6db-26ad-40ed-94fe-b9c2b032ee22"
   },
   "outputs": [],
   "source": [
    "import cv2\n",
    "\n",
    "def faceBox(faceNet,frame):\n",
    "    frameHeight=frame.shape[0]\n",
    "    frameWidth=frame.shape[1]\n",
    "    blob=cv2.dnn.blobFromImage(frame, 1.0, (300,300), [104,117,123], swapRB=False)\n",
    "    faceNet.setInput(blob)\n",
    "    detection=faceNet.forward()\n",
    "    bboxs=[]\n",
    "    for i in range(detection.shape[2]):\n",
    "        confidence=detection[0,0,i,2]\n",
    "        if confidence>0.7:\n",
    "            x1=int(detection[0,0,i,3]*frameWidth)\n",
    "            y1=int(detection[0,0,i,4]*frameHeight)\n",
    "            x2=int(detection[0,0,i,5]*frameWidth)\n",
    "            y2=int(detection[0,0,i,6]*frameHeight)\n",
    "            bboxs.append([x1,y1,x2,y2])\n",
    "            cv2.rectangle(frame, (x1,y1),(x2,y2),(0,255,0), 1)\n",
    "    return frame, bboxs\n",
    "\n",
    "\n",
    "faceProto = \"opencv_face_detector.pbtxt\"\n",
    "faceModel = \"opencv_face_detector_uint8.pb\"\n",
    "\n",
    "ageProto = \"age_deploy.prototxt\"\n",
    "ageModel = \"age_net.caffemodel\"\n",
    "\n",
    "genderProto = \"gender_deploy.prototxt\"\n",
    "genderModel = \"gender_net.caffemodel\"\n",
    "\n",
    "\n",
    "\n",
    "faceNet=cv2.dnn.readNet(faceModel, faceProto)\n",
    "ageNet=cv2.dnn.readNet(ageModel,ageProto)\n",
    "genderNet=cv2.dnn.readNet(genderModel,genderProto)\n",
    "\n",
    "MODEL_MEAN_VALUES = (78.4263377603, 87.7689143744, 114.895847746)\n",
    "ageList = ['(0-2)', '(4-6)', '(8-12)', '(15-20)', '(25-32)', '(38-43)', '(48-53)', '(60-100)']\n",
    "genderList = ['Male', 'Female']\n",
    "\n",
    "\n",
    "video=cv2.VideoCapture('v1.mp4')\n",
    "\n",
    "padding=20\n",
    "\n",
    "while True:\n",
    "    ret,frame=video.read()\n",
    "    frame=cv2.resize(frame,(600,600))\n",
    "    frame,bboxs=faceBox(faceNet,frame)\n",
    "    for bbox in bboxs:\n",
    "        face = frame[max(0,bbox[1]-padding):min(bbox[3]+padding,frame.shape[0]-1),max(0,bbox[0]-padding):min(bbox[2]+padding, frame.shape[1]-1)]\n",
    "        blob=cv2.dnn.blobFromImage(face, 1.0, (227,227), MODEL_MEAN_VALUES, swapRB=False)\n",
    "        genderNet.setInput(blob)\n",
    "        genderPred=genderNet.forward()\n",
    "        gender=genderList[genderPred[0].argmax()]\n",
    "\n",
    "\n",
    "        ageNet.setInput(blob)\n",
    "        agePred=ageNet.forward()\n",
    "        age=ageList[agePred[0].argmax()]\n",
    "\n",
    "\n",
    "        label=\"{},{}\".format(gender,age)\n",
    "        cv2.rectangle(frame,(bbox[0], bbox[1]-30), (bbox[2], bbox[1]), (0,255,0),-1) \n",
    "        cv2.putText(frame, label, (bbox[0], bbox[1]-10), cv2.FONT_HERSHEY_SIMPLEX, 0.8, (255,255,255), 2,cv2.LINE_AA)\n",
    "    cv2.imshow(\"Age-Gender\",frame)\n",
    "    if cv2.waitKey(1) & 0xff==ord('q'):\n",
    "        break\n",
    "video.release()\n",
    "cv2.destroyAllWindows()"
   ]
  },
  {
   "cell_type": "code",
   "execution_count": null,
   "metadata": {},
   "outputs": [],
   "source": []
  }
 ],
 "metadata": {
  "colab": {
   "provenance": []
  },
  "kernelspec": {
   "display_name": "Python 3 (ipykernel)",
   "language": "python",
   "name": "python3"
  },
  "language_info": {
   "codemirror_mode": {
    "name": "ipython",
    "version": 3
   },
   "file_extension": ".py",
   "mimetype": "text/x-python",
   "name": "python",
   "nbconvert_exporter": "python",
   "pygments_lexer": "ipython3",
   "version": "3.11.5"
  }
 },
 "nbformat": 4,
 "nbformat_minor": 1
}
