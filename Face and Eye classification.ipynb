{
 "cells": [
  {
   "cell_type": "code",
   "execution_count": 2,
   "id": "eb05b94c",
   "metadata": {},
   "outputs": [],
   "source": [
    "import cv2"
   ]
  },
  {
   "cell_type": "code",
   "execution_count": 3,
   "id": "7f7d1bf0",
   "metadata": {},
   "outputs": [],
   "source": [
    "face_cascade = cv2.CascadeClassifier('haarcascade_frontalface_default.xml')\n",
    "\n",
    "def detect_face(img):\n",
    "    face_img = img.copy()\n",
    "    face_rect = face_cascade.detectMultiScale(face_img,scaleFactor=1.2,minNeighbors=5)\n",
    "\n",
    "    for (x,y,w,h) in face_rect:\n",
    "        cv2.rectangle(face_img,(x,y),(x+w,y+h),(255,255,255),10)\n",
    "    return face_img\n",
    "\n",
    "cap = cv2.VideoCapture('C:/Users/PC/Downloads/production_id_4762700 (1080p).mp4')\n",
    "\n",
    "while True:\n",
    "    ret,frame = cap.read()\n",
    "    frame=cv2.resize(frame,(600,500))\n",
    "    frame = detect_face(frame)\n",
    "    cv2.imshow('Face Detection',frame)\n",
    "    if cv2.waitKey(1) & 0xFF==ord('q'):\n",
    "        break\n",
    "\n",
    "cap.release()\n",
    "cv2.destroyAllWindows()"
   ]
  },
  {
   "cell_type": "code",
   "execution_count": 7,
   "id": "5f426fcf",
   "metadata": {},
   "outputs": [],
   "source": [
    "eye_cascade = cv2.CascadeClassifier('haarcascade_eye.xml')\n",
    "face_cascade = cv2.CascadeClassifier('haarcascade_frontalface_default.xml')\n",
    "\n",
    "def detect_face(img):\n",
    "    face_img = img.copy()\n",
    "    face_rect = face_cascade.detectMultiScale(face_img,scaleFactor=1.2,minNeighbors=5)\n",
    "\n",
    "    for (x,y,w,h) in face_rect:\n",
    "        cv2.rectangle(face_img,(x,y),(x+w,y+h),(255,255,255),10)\n",
    "    return face_img\n",
    "def detect_eye(img):\n",
    "    eye_img = img.copy()\n",
    "    eye_rect = eye_cascade.detectMultiScale(eye_img,scaleFactor=1.2,minNeighbors=5)\n",
    "\n",
    "    for (x,y,w,h) in eye_rect:\n",
    "        cv2.rectangle(eye_img,(x,y),(x+w,y+h),(255,255,255),10)\n",
    "    return eye_img\n",
    "\n",
    "cap = cv2.VideoCapture('C:/Users/PC/Downloads/video (1080p) (1).mp4')\n",
    "while True:\n",
    "    ret,frame = cap.read()\n",
    "    frame=cv2.resize(frame,(600,500))\n",
    "    frame = detect_face(frame)\n",
    "    frame = detect_eye(frame)\n",
    "    cv2.imshow('Face and Eye Detection',frame)\n",
    "    code = cv2.waitKey(10)\n",
    "    if code == ord('q'):\n",
    "        break\n",
    "\n",
    "cap.release()\n",
    "cv2.destroyAllWindows() "
   ]
  },
  {
   "cell_type": "code",
   "execution_count": null,
   "id": "b2822429",
   "metadata": {},
   "outputs": [],
   "source": []
  }
 ],
 "metadata": {
  "kernelspec": {
   "display_name": "Python 3 (ipykernel)",
   "language": "python",
   "name": "python3"
  },
  "language_info": {
   "codemirror_mode": {
    "name": "ipython",
    "version": 3
   },
   "file_extension": ".py",
   "mimetype": "text/x-python",
   "name": "python",
   "nbconvert_exporter": "python",
   "pygments_lexer": "ipython3",
   "version": "3.11.5"
  }
 },
 "nbformat": 4,
 "nbformat_minor": 5
}
