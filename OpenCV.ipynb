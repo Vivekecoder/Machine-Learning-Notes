{
 "cells": [
  {
   "cell_type": "code",
   "execution_count": 2,
   "id": "5a9c4ff9",
   "metadata": {},
   "outputs": [
    {
     "name": "stdout",
     "output_type": "stream",
     "text": [
      "Requirement already satisfied: opencv-python in c:\\users\\pc\\anaconda3\\lib\\site-packages (4.8.1.78)Note: you may need to restart the kernel to use updated packages.\n",
      "\n",
      "Requirement already satisfied: numpy>=1.21.2 in c:\\users\\pc\\anaconda3\\lib\\site-packages (from opencv-python) (1.24.3)\n"
     ]
    }
   ],
   "source": [
    "pip install opencv-python"
   ]
  },
  {
   "cell_type": "code",
   "execution_count": 1,
   "id": "66ca9134",
   "metadata": {},
   "outputs": [],
   "source": [
    "import cv2"
   ]
  },
  {
   "cell_type": "code",
   "execution_count": 2,
   "id": "0901c3d8",
   "metadata": {},
   "outputs": [],
   "source": [
    "img=cv2.imread('pic1.jpg')"
   ]
  },
  {
   "cell_type": "code",
   "execution_count": 3,
   "id": "95974a1f",
   "metadata": {},
   "outputs": [
    {
     "data": {
      "text/plain": [
       "array([[[ 61,  60,  50],\n",
       "        [ 63,  63,  47],\n",
       "        [ 78,  72,  49],\n",
       "        ...,\n",
       "        [138,  88,   0],\n",
       "        [138,  94,   0],\n",
       "        [141, 101,   0]],\n",
       "\n",
       "       [[ 54,  55,  46],\n",
       "        [ 61,  61,  49],\n",
       "        [ 71,  67,  48],\n",
       "        ...,\n",
       "        [152, 102,   0],\n",
       "        [154, 107,   2],\n",
       "        [154, 115,   7]],\n",
       "\n",
       "       [[ 43,  44,  40],\n",
       "        [ 47,  49,  43],\n",
       "        [ 50,  52,  40],\n",
       "        ...,\n",
       "        [168, 114,   0],\n",
       "        [165, 118,   2],\n",
       "        [165, 125,   6]],\n",
       "\n",
       "       ...,\n",
       "\n",
       "       [[ 10,  10,  28],\n",
       "        [  7,   7,  25],\n",
       "        [  4,   4,  22],\n",
       "        ...,\n",
       "        [ 13,  16,  30],\n",
       "        [ 10,  13,  27],\n",
       "        [  8,  11,  25]],\n",
       "\n",
       "       [[  8,   8,  26],\n",
       "        [  6,   6,  24],\n",
       "        [  4,   4,  22],\n",
       "        ...,\n",
       "        [ 13,  16,  30],\n",
       "        [ 10,  13,  27],\n",
       "        [  6,   9,  23]],\n",
       "\n",
       "       [[  6,   6,  22],\n",
       "        [  5,   5,  21],\n",
       "        [  4,   4,  20],\n",
       "        ...,\n",
       "        [ 14,  17,  31],\n",
       "        [ 10,  13,  27],\n",
       "        [  5,   8,  22]]], dtype=uint8)"
      ]
     },
     "execution_count": 3,
     "metadata": {},
     "output_type": "execute_result"
    }
   ],
   "source": [
    "img"
   ]
  },
  {
   "cell_type": "code",
   "execution_count": 4,
   "id": "e26f8c8a",
   "metadata": {},
   "outputs": [
    {
     "data": {
      "text/plain": [
       "(5693, 3795, 3)"
      ]
     },
     "execution_count": 4,
     "metadata": {},
     "output_type": "execute_result"
    }
   ],
   "source": [
    "img.shape"
   ]
  },
  {
   "cell_type": "code",
   "execution_count": 5,
   "id": "ec739822",
   "metadata": {},
   "outputs": [
    {
     "data": {
      "text/plain": [
       "64814805"
      ]
     },
     "execution_count": 5,
     "metadata": {},
     "output_type": "execute_result"
    }
   ],
   "source": [
    "3795*5693*3"
   ]
  },
  {
   "cell_type": "code",
   "execution_count": 6,
   "id": "bfe3d233",
   "metadata": {},
   "outputs": [
    {
     "data": {
      "text/plain": [
       "64814805"
      ]
     },
     "execution_count": 6,
     "metadata": {},
     "output_type": "execute_result"
    }
   ],
   "source": [
    "img.size"
   ]
  },
  {
   "cell_type": "code",
   "execution_count": 10,
   "id": "b417ab70",
   "metadata": {},
   "outputs": [],
   "source": [
    "img=cv2.imread('pic1.jpg')\n",
    "img2=cv2.resize(img,(400,400))\n",
    "cv2.imshow('Nature',img2)\n",
    "cv2.waitKey(0)\n",
    "cv2.destroyAllWindows()"
   ]
  },
  {
   "cell_type": "code",
   "execution_count": 11,
   "id": "21a6b1cc",
   "metadata": {},
   "outputs": [],
   "source": [
    "img=cv2.imread('C:/Users/PC/Downloads/pic2.jpg')\n",
    "img1=cv2.resize(img,(800,400))\n",
    "cv2.imshow('Nature-2',img1)\n",
    "cv2.waitKey(0)\n",
    "cv2.destroyAllWindows()"
   ]
  },
  {
   "cell_type": "markdown",
   "id": "6c6e47e7",
   "metadata": {},
   "source": [
    "img in gray"
   ]
  },
  {
   "cell_type": "code",
   "execution_count": 12,
   "id": "aed9385f",
   "metadata": {},
   "outputs": [],
   "source": [
    "img=cv2.imread('C:/Users/PC/Downloads/pic2.jpg',0)\n",
    "img1=cv2.resize(img,(800,400))\n",
    "cv2.imshow('Nature-2',img1)\n",
    "cv2.waitKey(0)\n",
    "cv2.destroyAllWindows()"
   ]
  },
  {
   "cell_type": "code",
   "execution_count": 13,
   "id": "52542857",
   "metadata": {},
   "outputs": [],
   "source": [
    "img=cv2.imread('C:/Users/PC/Downloads/pic2.jpg')\n",
    "img1=cv2.resize(img,(800,400))\n",
    "img2=cv2.cvtColor(img1,cv2.COLOR_BGR2GRAY)\n",
    "cv2.imshow('Nature-2',img2)\n",
    "cv2.waitKey(0)\n",
    "cv2.destroyAllWindows()"
   ]
  },
  {
   "cell_type": "code",
   "execution_count": 14,
   "id": "fe480a4b",
   "metadata": {},
   "outputs": [],
   "source": [
    "import numpy as np"
   ]
  },
  {
   "cell_type": "code",
   "execution_count": 15,
   "id": "3aae6b12",
   "metadata": {},
   "outputs": [],
   "source": [
    "img1=cv2.imread('pic1.jpg')\n",
    "img2=cv2.imread('pic2.jpg')\n",
    "img1=cv2.resize(img1,(400,400))\n",
    "img2=cv2.resize(img2,(400,400))\n",
    "img3=np.hstack((img1,img2))\n",
    "cv2.imshow('Nature Collage',img3)\n",
    "cv2.waitKey(0)\n",
    "cv2.destroyAllWindows()"
   ]
  },
  {
   "cell_type": "code",
   "execution_count": 16,
   "id": "b0791cfd",
   "metadata": {},
   "outputs": [],
   "source": [
    "img1=cv2.imread('pic1.jpg')\n",
    "img2=cv2.imread('pic2.jpg')\n",
    "img3=cv2.imread('pic3.jpg')\n",
    "img4=cv2.imread('pic4.jpg')\n",
    "img5=cv2.imread('pic5.jpg')\n",
    "img6=cv2.imread('pic6.jpg')\n",
    "\n",
    "img1=cv2.resize(img1,(400,400))\n",
    "img2=cv2.resize(img2,(400,400))\n",
    "img3=cv2.resize(img3,(400,400))\n",
    "img4=cv2.resize(img4,(400,400))\n",
    "img5=cv2.resize(img5,(400,400))\n",
    "img6=cv2.resize(img6,(400,400))\n",
    "img7=np.hstack((img1,img2,img3))\n",
    "img8=np.hstack((img4,img5,img6))\n",
    "img9=np.vstack((img7,img8))\n",
    "cv2.imshow('Nature Collage',img9)\n",
    "cv2.waitKey(0)\n",
    "cv2.destroyAllWindows()"
   ]
  },
  {
   "cell_type": "code",
   "execution_count": null,
   "id": "2d777620",
   "metadata": {},
   "outputs": [],
   "source": []
  }
 ],
 "metadata": {
  "kernelspec": {
   "display_name": "Python 3 (ipykernel)",
   "language": "python",
   "name": "python3"
  },
  "language_info": {
   "codemirror_mode": {
    "name": "ipython",
    "version": 3
   },
   "file_extension": ".py",
   "mimetype": "text/x-python",
   "name": "python",
   "nbconvert_exporter": "python",
   "pygments_lexer": "ipython3",
   "version": "3.11.5"
  }
 },
 "nbformat": 4,
 "nbformat_minor": 5
}
