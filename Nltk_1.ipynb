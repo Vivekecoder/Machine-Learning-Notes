{
 "cells": [
  {
   "cell_type": "code",
   "execution_count": 1,
   "id": "d4b5b557",
   "metadata": {},
   "outputs": [],
   "source": [
    "import nltk"
   ]
  },
  {
   "cell_type": "code",
   "execution_count": 11,
   "id": "c3348a54",
   "metadata": {},
   "outputs": [
    {
     "name": "stdout",
     "output_type": "stream",
     "text": [
      "showing info https://raw.githubusercontent.com/nltk/nltk_data/gh-pages/index.xml\n"
     ]
    },
    {
     "data": {
      "text/plain": [
       "True"
      ]
     },
     "execution_count": 11,
     "metadata": {},
     "output_type": "execute_result"
    }
   ],
   "source": [
    "nltk.download()"
   ]
  },
  {
   "cell_type": "code",
   "execution_count": 4,
   "id": "68eca50c",
   "metadata": {},
   "outputs": [
    {
     "name": "stderr",
     "output_type": "stream",
     "text": [
      "[nltk_data] Downloading package brown to\n",
      "[nltk_data]     C:\\Users\\PC\\AppData\\Roaming\\nltk_data...\n",
      "[nltk_data]   Unzipping corpora\\brown.zip.\n"
     ]
    },
    {
     "data": {
      "text/plain": [
       "True"
      ]
     },
     "execution_count": 4,
     "metadata": {},
     "output_type": "execute_result"
    }
   ],
   "source": [
    "nltk.download('brown')"
   ]
  },
  {
   "cell_type": "code",
   "execution_count": 15,
   "id": "e48b623e",
   "metadata": {},
   "outputs": [],
   "source": [
    "s='Python is a high-level, general-purpose, and very popular programming language. Python programming language (latest Python vesrion 3.2) is being used in web development, Machine Learning applications, along with all cutting-edge technology in Software Industry. Python language is being used by almost all tech-giant companies like – Google, Amazon, Facebook, Instagram, Dropbox, Uber… etc. The biggest strength of Python is huge collection of standard library which can be used for the following'"
   ]
  },
  {
   "cell_type": "code",
   "execution_count": 16,
   "id": "f1888464",
   "metadata": {},
   "outputs": [
    {
     "data": {
      "text/plain": [
       "'Python is a high-level, general-purpose, and very popular programming language. Python programming language (latest Python vesrion 3.2) is being used in web development, Machine Learning applications, along with all cutting-edge technology in Software Industry. Python language is being used by almost all tech-giant companies like – Google, Amazon, Facebook, Instagram, Dropbox, Uber… etc. The biggest strength of Python is huge collection of standard library which can be used for the following'"
      ]
     },
     "execution_count": 16,
     "metadata": {},
     "output_type": "execute_result"
    }
   ],
   "source": [
    "s"
   ]
  },
  {
   "cell_type": "code",
   "execution_count": 17,
   "id": "7ad5e7ef",
   "metadata": {
    "scrolled": true
   },
   "outputs": [
    {
     "data": {
      "text/plain": [
       "['Python is a high-level, general-purpose, and very popular programming language',\n",
       " ' Python programming language (latest Python vesrion 3',\n",
       " '2) is being used in web development, Machine Learning applications, along with all cutting-edge technology in Software Industry',\n",
       " ' Python language is being used by almost all tech-giant companies like – Google, Amazon, Facebook, Instagram, Dropbox, Uber… etc',\n",
       " ' The biggest strength of Python is huge collection of standard library which can be used for the following']"
      ]
     },
     "execution_count": 17,
     "metadata": {},
     "output_type": "execute_result"
    }
   ],
   "source": [
    "s.split('.')"
   ]
  },
  {
   "cell_type": "code",
   "execution_count": 18,
   "id": "65862b80",
   "metadata": {},
   "outputs": [],
   "source": [
    "from nltk.tokenize import sent_tokenize,word_tokenize"
   ]
  },
  {
   "cell_type": "code",
   "execution_count": 19,
   "id": "e386046e",
   "metadata": {},
   "outputs": [
    {
     "data": {
      "text/plain": [
       "'Python is a high-level, general-purpose, and very popular programming language. Python programming language (latest Python vesrion 3.2) is being used in web development, Machine Learning applications, along with all cutting-edge technology in Software Industry. Python language is being used by almost all tech-giant companies like – Google, Amazon, Facebook, Instagram, Dropbox, Uber… etc. The biggest strength of Python is huge collection of standard library which can be used for the following'"
      ]
     },
     "execution_count": 19,
     "metadata": {},
     "output_type": "execute_result"
    }
   ],
   "source": [
    "s"
   ]
  },
  {
   "cell_type": "code",
   "execution_count": 20,
   "id": "18fca6c1",
   "metadata": {
    "scrolled": true
   },
   "outputs": [
    {
     "data": {
      "text/plain": [
       "['Python is a high-level, general-purpose, and very popular programming language.',\n",
       " 'Python programming language (latest Python vesrion 3.2) is being used in web development, Machine Learning applications, along with all cutting-edge technology in Software Industry.',\n",
       " 'Python language is being used by almost all tech-giant companies like – Google, Amazon, Facebook, Instagram, Dropbox, Uber… etc.',\n",
       " 'The biggest strength of Python is huge collection of standard library which can be used for the following']"
      ]
     },
     "execution_count": 20,
     "metadata": {},
     "output_type": "execute_result"
    }
   ],
   "source": [
    "sent_tokenize(s)"
   ]
  },
  {
   "cell_type": "code",
   "execution_count": 22,
   "id": "7c1750f6",
   "metadata": {},
   "outputs": [
    {
     "data": {
      "text/plain": [
       "['Python',\n",
       " 'is',\n",
       " 'a',\n",
       " 'high-level,',\n",
       " 'general-purpose,',\n",
       " 'and',\n",
       " 'very',\n",
       " 'popular',\n",
       " 'programming',\n",
       " 'language.',\n",
       " 'Python',\n",
       " 'programming',\n",
       " 'language',\n",
       " '(latest',\n",
       " 'Python',\n",
       " 'vesrion',\n",
       " '3.2)',\n",
       " 'is',\n",
       " 'being',\n",
       " 'used',\n",
       " 'in',\n",
       " 'web',\n",
       " 'development,',\n",
       " 'Machine',\n",
       " 'Learning',\n",
       " 'applications,',\n",
       " 'along',\n",
       " 'with',\n",
       " 'all',\n",
       " 'cutting-edge',\n",
       " 'technology',\n",
       " 'in',\n",
       " 'Software',\n",
       " 'Industry.',\n",
       " 'Python',\n",
       " 'language',\n",
       " 'is',\n",
       " 'being',\n",
       " 'used',\n",
       " 'by',\n",
       " 'almost',\n",
       " 'all',\n",
       " 'tech-giant',\n",
       " 'companies',\n",
       " 'like',\n",
       " '–',\n",
       " 'Google,',\n",
       " 'Amazon,',\n",
       " 'Facebook,',\n",
       " 'Instagram,',\n",
       " 'Dropbox,',\n",
       " 'Uber…',\n",
       " 'etc.',\n",
       " 'The',\n",
       " 'biggest',\n",
       " 'strength',\n",
       " 'of',\n",
       " 'Python',\n",
       " 'is',\n",
       " 'huge',\n",
       " 'collection',\n",
       " 'of',\n",
       " 'standard',\n",
       " 'library',\n",
       " 'which',\n",
       " 'can',\n",
       " 'be',\n",
       " 'used',\n",
       " 'for',\n",
       " 'the',\n",
       " 'following']"
      ]
     },
     "execution_count": 22,
     "metadata": {},
     "output_type": "execute_result"
    }
   ],
   "source": [
    "s.split(' ')"
   ]
  },
  {
   "cell_type": "code",
   "execution_count": 23,
   "id": "23936e00",
   "metadata": {},
   "outputs": [
    {
     "data": {
      "text/plain": [
       "['Python',\n",
       " 'is',\n",
       " 'a',\n",
       " 'high-level',\n",
       " ',',\n",
       " 'general-purpose',\n",
       " ',',\n",
       " 'and',\n",
       " 'very',\n",
       " 'popular',\n",
       " 'programming',\n",
       " 'language',\n",
       " '.',\n",
       " 'Python',\n",
       " 'programming',\n",
       " 'language',\n",
       " '(',\n",
       " 'latest',\n",
       " 'Python',\n",
       " 'vesrion',\n",
       " '3.2',\n",
       " ')',\n",
       " 'is',\n",
       " 'being',\n",
       " 'used',\n",
       " 'in',\n",
       " 'web',\n",
       " 'development',\n",
       " ',',\n",
       " 'Machine',\n",
       " 'Learning',\n",
       " 'applications',\n",
       " ',',\n",
       " 'along',\n",
       " 'with',\n",
       " 'all',\n",
       " 'cutting-edge',\n",
       " 'technology',\n",
       " 'in',\n",
       " 'Software',\n",
       " 'Industry',\n",
       " '.',\n",
       " 'Python',\n",
       " 'language',\n",
       " 'is',\n",
       " 'being',\n",
       " 'used',\n",
       " 'by',\n",
       " 'almost',\n",
       " 'all',\n",
       " 'tech-giant',\n",
       " 'companies',\n",
       " 'like',\n",
       " '–',\n",
       " 'Google',\n",
       " ',',\n",
       " 'Amazon',\n",
       " ',',\n",
       " 'Facebook',\n",
       " ',',\n",
       " 'Instagram',\n",
       " ',',\n",
       " 'Dropbox',\n",
       " ',',\n",
       " 'Uber…',\n",
       " 'etc',\n",
       " '.',\n",
       " 'The',\n",
       " 'biggest',\n",
       " 'strength',\n",
       " 'of',\n",
       " 'Python',\n",
       " 'is',\n",
       " 'huge',\n",
       " 'collection',\n",
       " 'of',\n",
       " 'standard',\n",
       " 'library',\n",
       " 'which',\n",
       " 'can',\n",
       " 'be',\n",
       " 'used',\n",
       " 'for',\n",
       " 'the',\n",
       " 'following']"
      ]
     },
     "execution_count": 23,
     "metadata": {},
     "output_type": "execute_result"
    }
   ],
   "source": [
    "word_tokenize(s)"
   ]
  },
  {
   "cell_type": "code",
   "execution_count": null,
   "id": "98943fdd",
   "metadata": {},
   "outputs": [],
   "source": []
  }
 ],
 "metadata": {
  "kernelspec": {
   "display_name": "Python 3 (ipykernel)",
   "language": "python",
   "name": "python3"
  },
  "language_info": {
   "codemirror_mode": {
    "name": "ipython",
    "version": 3
   },
   "file_extension": ".py",
   "mimetype": "text/x-python",
   "name": "python",
   "nbconvert_exporter": "python",
   "pygments_lexer": "ipython3",
   "version": "3.11.5"
  }
 },
 "nbformat": 4,
 "nbformat_minor": 5
}
