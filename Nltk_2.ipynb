{
 "cells": [
  {
   "cell_type": "code",
   "execution_count": 1,
   "id": "17b7618c",
   "metadata": {},
   "outputs": [
    {
     "name": "stderr",
     "output_type": "stream",
     "text": [
      "[nltk_data] Downloading package stopwords to\n",
      "[nltk_data]     C:\\Users\\PC\\AppData\\Roaming\\nltk_data...\n",
      "[nltk_data]   Package stopwords is already up-to-date!\n"
     ]
    }
   ],
   "source": [
    "import nltk\n",
    "nltk.download('stopwords')\n",
    "from nltk.corpus import stopwords"
   ]
  },
  {
   "cell_type": "code",
   "execution_count": 12,
   "id": "3f038985",
   "metadata": {},
   "outputs": [],
   "source": [
    "stp_words=stopwords.words('english')"
   ]
  },
  {
   "cell_type": "code",
   "execution_count": 3,
   "id": "e03c4858",
   "metadata": {},
   "outputs": [],
   "source": [
    "txt='The NLTK library already contains stopwords , but if we want to add few words which we want our machine to ignore then we can add some custom stopwords.'"
   ]
  },
  {
   "cell_type": "code",
   "execution_count": 4,
   "id": "51c940c6",
   "metadata": {},
   "outputs": [
    {
     "data": {
      "text/plain": [
       "'The NLTK library already contains stopwords , but if we want to add few words which we want our machine to ignore then we can add some custom stopwords.'"
      ]
     },
     "execution_count": 4,
     "metadata": {},
     "output_type": "execute_result"
    }
   ],
   "source": [
    "txt"
   ]
  },
  {
   "cell_type": "code",
   "execution_count": 5,
   "id": "26522660",
   "metadata": {},
   "outputs": [],
   "source": [
    "from nltk.tokenize import word_tokenize"
   ]
  },
  {
   "cell_type": "code",
   "execution_count": 7,
   "id": "0341d4aa",
   "metadata": {},
   "outputs": [],
   "source": [
    "text=word_tokenize(txt)"
   ]
  },
  {
   "cell_type": "code",
   "execution_count": 8,
   "id": "3a9590a0",
   "metadata": {},
   "outputs": [
    {
     "data": {
      "text/plain": [
       "['The',\n",
       " 'NLTK',\n",
       " 'library',\n",
       " 'already',\n",
       " 'contains',\n",
       " 'stopwords',\n",
       " ',',\n",
       " 'but',\n",
       " 'if',\n",
       " 'we',\n",
       " 'want',\n",
       " 'to',\n",
       " 'add',\n",
       " 'few',\n",
       " 'words',\n",
       " 'which',\n",
       " 'we',\n",
       " 'want',\n",
       " 'our',\n",
       " 'machine',\n",
       " 'to',\n",
       " 'ignore',\n",
       " 'then',\n",
       " 'we',\n",
       " 'can',\n",
       " 'add',\n",
       " 'some',\n",
       " 'custom',\n",
       " 'stopwords',\n",
       " '.']"
      ]
     },
     "execution_count": 8,
     "metadata": {},
     "output_type": "execute_result"
    }
   ],
   "source": [
    "text"
   ]
  },
  {
   "cell_type": "code",
   "execution_count": 10,
   "id": "ffbb3adf",
   "metadata": {
    "scrolled": true
   },
   "outputs": [
    {
     "data": {
      "text/plain": [
       "{',',\n",
       " '.',\n",
       " 'NLTK',\n",
       " 'The',\n",
       " 'add',\n",
       " 'already',\n",
       " 'contains',\n",
       " 'custom',\n",
       " 'ignore',\n",
       " 'library',\n",
       " 'machine',\n",
       " 'stopwords',\n",
       " 'want',\n",
       " 'words'}"
      ]
     },
     "execution_count": 10,
     "metadata": {},
     "output_type": "execute_result"
    }
   ],
   "source": [
    "set(text).difference(set(stopwords.words('english')))"
   ]
  },
  {
   "cell_type": "code",
   "execution_count": 11,
   "id": "88a437f3",
   "metadata": {},
   "outputs": [
    {
     "data": {
      "text/plain": [
       "['The',\n",
       " 'NLTK',\n",
       " 'library',\n",
       " 'already',\n",
       " 'contains',\n",
       " 'stopwords',\n",
       " ',',\n",
       " 'but',\n",
       " 'if',\n",
       " 'we',\n",
       " 'want',\n",
       " 'to',\n",
       " 'add',\n",
       " 'few',\n",
       " 'words',\n",
       " 'which',\n",
       " 'we',\n",
       " 'want',\n",
       " 'our',\n",
       " 'machine',\n",
       " 'to',\n",
       " 'ignore',\n",
       " 'then',\n",
       " 'we',\n",
       " 'can',\n",
       " 'add',\n",
       " 'some',\n",
       " 'custom',\n",
       " 'stopwords',\n",
       " '.']"
      ]
     },
     "execution_count": 11,
     "metadata": {},
     "output_type": "execute_result"
    }
   ],
   "source": [
    "text"
   ]
  },
  {
   "cell_type": "code",
   "execution_count": 13,
   "id": "63a0a2af",
   "metadata": {},
   "outputs": [],
   "source": [
    "w_s=[]\n",
    "for i in text:\n",
    "    if i in stp_words:\n",
    "        pass\n",
    "    else:\n",
    "        w_s.append(i)"
   ]
  },
  {
   "cell_type": "code",
   "execution_count": 14,
   "id": "520ceeb3",
   "metadata": {},
   "outputs": [
    {
     "name": "stdout",
     "output_type": "stream",
     "text": [
      "['The', 'NLTK', 'library', 'already', 'contains', 'stopwords', ',', 'want', 'add', 'words', 'want', 'machine', 'ignore', 'add', 'custom', 'stopwords', '.']\n"
     ]
    }
   ],
   "source": [
    "print(w_s)"
   ]
  },
  {
   "cell_type": "code",
   "execution_count": 16,
   "id": "1689bd79",
   "metadata": {},
   "outputs": [
    {
     "data": {
      "text/plain": [
       "'The NLTK library already contains stopwords , but if we want to add few words which we want our machine to ignore then we can add some custom stopwords.'"
      ]
     },
     "execution_count": 16,
     "metadata": {},
     "output_type": "execute_result"
    }
   ],
   "source": [
    "txt"
   ]
  },
  {
   "cell_type": "code",
   "execution_count": 15,
   "id": "bbf4b7df",
   "metadata": {},
   "outputs": [
    {
     "data": {
      "text/plain": [
       "'The NLTK library already contains stopwords , want add words want machine ignore add custom stopwords .'"
      ]
     },
     "execution_count": 15,
     "metadata": {},
     "output_type": "execute_result"
    }
   ],
   "source": [
    "' '.join(w_s)"
   ]
  },
  {
   "cell_type": "markdown",
   "id": "64511bd3",
   "metadata": {},
   "source": [
    "Stemming "
   ]
  },
  {
   "cell_type": "code",
   "execution_count": 18,
   "id": "e7985536",
   "metadata": {},
   "outputs": [
    {
     "name": "stderr",
     "output_type": "stream",
     "text": [
      "[nltk_data] Downloading package punkt to\n",
      "[nltk_data]     C:\\Users\\PC\\AppData\\Roaming\\nltk_data...\n",
      "[nltk_data]   Package punkt is already up-to-date!\n"
     ]
    },
    {
     "data": {
      "text/plain": [
       "True"
      ]
     },
     "execution_count": 18,
     "metadata": {},
     "output_type": "execute_result"
    }
   ],
   "source": [
    "nltk.download('punkt')"
   ]
  },
  {
   "cell_type": "code",
   "execution_count": 21,
   "id": "7c47c998",
   "metadata": {},
   "outputs": [],
   "source": [
    "from nltk.stem import PorterStemmer"
   ]
  },
  {
   "cell_type": "code",
   "execution_count": 22,
   "id": "1c8382a3",
   "metadata": {},
   "outputs": [],
   "source": [
    "stem1=PorterStemmer()"
   ]
  },
  {
   "cell_type": "code",
   "execution_count": 20,
   "id": "e53d57f8",
   "metadata": {},
   "outputs": [],
   "source": [
    "a=['plays','play','playing','played']"
   ]
  },
  {
   "cell_type": "code",
   "execution_count": 24,
   "id": "60cd1077",
   "metadata": {},
   "outputs": [
    {
     "data": {
      "text/plain": [
       "'play'"
      ]
     },
     "execution_count": 24,
     "metadata": {},
     "output_type": "execute_result"
    }
   ],
   "source": [
    "stem1.stem('playing')"
   ]
  },
  {
   "cell_type": "code",
   "execution_count": 26,
   "id": "40d541ed",
   "metadata": {},
   "outputs": [
    {
     "data": {
      "text/plain": [
       "'histori'"
      ]
     },
     "execution_count": 26,
     "metadata": {},
     "output_type": "execute_result"
    }
   ],
   "source": [
    "stem1.stem('history')"
   ]
  },
  {
   "cell_type": "code",
   "execution_count": 27,
   "id": "8e92c622",
   "metadata": {},
   "outputs": [
    {
     "data": {
      "text/plain": [
       "'care'"
      ]
     },
     "execution_count": 27,
     "metadata": {},
     "output_type": "execute_result"
    }
   ],
   "source": [
    "stem1.stem('caring')"
   ]
  },
  {
   "cell_type": "code",
   "execution_count": 28,
   "id": "eefb4e68",
   "metadata": {},
   "outputs": [
    {
     "data": {
      "text/plain": [
       "'watch'"
      ]
     },
     "execution_count": 28,
     "metadata": {},
     "output_type": "execute_result"
    }
   ],
   "source": [
    "stem1.stem('watching')"
   ]
  },
  {
   "cell_type": "code",
   "execution_count": 29,
   "id": "406980d5",
   "metadata": {},
   "outputs": [
    {
     "data": {
      "text/plain": [
       "['plays', 'play', 'playing', 'played']"
      ]
     },
     "execution_count": 29,
     "metadata": {},
     "output_type": "execute_result"
    }
   ],
   "source": [
    "a"
   ]
  },
  {
   "cell_type": "code",
   "execution_count": 33,
   "id": "87118656",
   "metadata": {},
   "outputs": [
    {
     "name": "stdout",
     "output_type": "stream",
     "text": [
      "plays  -  play\n",
      "play  -  play\n",
      "playing  -  play\n",
      "played  -  play\n"
     ]
    }
   ],
   "source": [
    "for i in a:\n",
    "    print(i,' - ',stem1.stem(i))"
   ]
  },
  {
   "cell_type": "code",
   "execution_count": 34,
   "id": "370133ac",
   "metadata": {},
   "outputs": [],
   "source": [
    "from nltk.stem import WordNetLemmatizer"
   ]
  },
  {
   "cell_type": "code",
   "execution_count": 35,
   "id": "06365d2c",
   "metadata": {},
   "outputs": [],
   "source": [
    "lem=WordNetLemmatizer()"
   ]
  },
  {
   "cell_type": "code",
   "execution_count": 40,
   "id": "107e6298",
   "metadata": {},
   "outputs": [
    {
     "data": {
      "text/plain": [
       "'Playing'"
      ]
     },
     "execution_count": 40,
     "metadata": {},
     "output_type": "execute_result"
    }
   ],
   "source": [
    "lem.lemmatize('Playing','n')"
   ]
  },
  {
   "cell_type": "code",
   "execution_count": 41,
   "id": "b8addb09",
   "metadata": {},
   "outputs": [
    {
     "data": {
      "text/plain": [
       "['plays', 'play', 'playing', 'played']"
      ]
     },
     "execution_count": 41,
     "metadata": {},
     "output_type": "execute_result"
    }
   ],
   "source": [
    "a"
   ]
  },
  {
   "cell_type": "code",
   "execution_count": 42,
   "id": "aa295ed4",
   "metadata": {},
   "outputs": [
    {
     "name": "stdout",
     "output_type": "stream",
     "text": [
      "plays  -  play\n",
      "play  -  play\n",
      "playing  -  playing\n",
      "played  -  played\n"
     ]
    }
   ],
   "source": [
    "for i in a:\n",
    "    print(i,' - ',lem.lemmatize(i))"
   ]
  },
  {
   "cell_type": "code",
   "execution_count": 51,
   "id": "747fb2c2",
   "metadata": {},
   "outputs": [],
   "source": [
    "s='Hello Python. Hello Python is Programming Language. Python is Object Oriented Language.'"
   ]
  },
  {
   "cell_type": "code",
   "execution_count": 52,
   "id": "cc7ea3d8",
   "metadata": {},
   "outputs": [
    {
     "data": {
      "text/plain": [
       "'Hello Python. Hello Python is Programming Language. Python is Object Oriented Language.'"
      ]
     },
     "execution_count": 52,
     "metadata": {},
     "output_type": "execute_result"
    }
   ],
   "source": [
    "s"
   ]
  },
  {
   "cell_type": "code",
   "execution_count": 53,
   "id": "7c1df542",
   "metadata": {},
   "outputs": [],
   "source": [
    "s1=s.lower()"
   ]
  },
  {
   "cell_type": "code",
   "execution_count": 54,
   "id": "8d32a944",
   "metadata": {},
   "outputs": [
    {
     "data": {
      "text/plain": [
       "'hello python. hello python is programming language. python is object oriented language.'"
      ]
     },
     "execution_count": 54,
     "metadata": {},
     "output_type": "execute_result"
    }
   ],
   "source": [
    "s1"
   ]
  },
  {
   "cell_type": "code",
   "execution_count": 55,
   "id": "419c6c8f",
   "metadata": {},
   "outputs": [],
   "source": [
    "from nltk.tokenize import sent_tokenize"
   ]
  },
  {
   "cell_type": "code",
   "execution_count": 58,
   "id": "49499180",
   "metadata": {},
   "outputs": [],
   "source": [
    "doc=sent_tokenize(s1)"
   ]
  },
  {
   "cell_type": "code",
   "execution_count": 59,
   "id": "dbdc744a",
   "metadata": {},
   "outputs": [
    {
     "data": {
      "text/plain": [
       "['hello python.',\n",
       " 'hello python is programming language.',\n",
       " 'python is object oriented language.']"
      ]
     },
     "execution_count": 59,
     "metadata": {},
     "output_type": "execute_result"
    }
   ],
   "source": [
    "doc"
   ]
  },
  {
   "cell_type": "code",
   "execution_count": 64,
   "id": "41e46d43",
   "metadata": {},
   "outputs": [],
   "source": [
    "a=' '.join(doc)"
   ]
  },
  {
   "cell_type": "code",
   "execution_count": 67,
   "id": "6425509d",
   "metadata": {},
   "outputs": [],
   "source": [
    "s3=set(word_tokenize(a))"
   ]
  },
  {
   "cell_type": "code",
   "execution_count": 70,
   "id": "e495fd93",
   "metadata": {},
   "outputs": [],
   "source": [
    "l=list(s3)"
   ]
  },
  {
   "cell_type": "code",
   "execution_count": 72,
   "id": "2c959785",
   "metadata": {},
   "outputs": [],
   "source": [
    "l.remove('.')"
   ]
  },
  {
   "cell_type": "code",
   "execution_count": 74,
   "id": "10a55113",
   "metadata": {},
   "outputs": [],
   "source": [
    "l.sort()"
   ]
  },
  {
   "cell_type": "code",
   "execution_count": 75,
   "id": "d238a0d2",
   "metadata": {},
   "outputs": [
    {
     "data": {
      "text/plain": [
       "['hello', 'is', 'language', 'object', 'oriented', 'programming', 'python']"
      ]
     },
     "execution_count": 75,
     "metadata": {},
     "output_type": "execute_result"
    }
   ],
   "source": [
    "l"
   ]
  },
  {
   "cell_type": "code",
   "execution_count": 60,
   "id": "b2bce23e",
   "metadata": {},
   "outputs": [],
   "source": [
    "from sklearn.feature_extraction.text import CountVectorizer"
   ]
  },
  {
   "cell_type": "code",
   "execution_count": 61,
   "id": "2494c396",
   "metadata": {},
   "outputs": [],
   "source": [
    "count=CountVectorizer()"
   ]
  },
  {
   "cell_type": "code",
   "execution_count": 76,
   "id": "4f18dcca",
   "metadata": {},
   "outputs": [],
   "source": [
    "x=count.fit_transform(doc)"
   ]
  },
  {
   "cell_type": "code",
   "execution_count": 78,
   "id": "8c5bf1a0",
   "metadata": {},
   "outputs": [
    {
     "data": {
      "text/plain": [
       "array([[1, 0, 0, 0, 0, 0, 1],\n",
       "       [1, 1, 1, 0, 0, 1, 1],\n",
       "       [0, 1, 1, 1, 1, 0, 1]], dtype=int64)"
      ]
     },
     "execution_count": 78,
     "metadata": {},
     "output_type": "execute_result"
    }
   ],
   "source": [
    "x.toarray()"
   ]
  },
  {
   "cell_type": "code",
   "execution_count": 82,
   "id": "5e8480b7",
   "metadata": {},
   "outputs": [
    {
     "data": {
      "text/plain": [
       "['hello', 'is', 'language', 'object', 'oriented', 'programming', 'python']"
      ]
     },
     "execution_count": 82,
     "metadata": {},
     "output_type": "execute_result"
    }
   ],
   "source": [
    "list(count.get_feature_names_out())"
   ]
  },
  {
   "cell_type": "code",
   "execution_count": 79,
   "id": "e0026d7c",
   "metadata": {},
   "outputs": [],
   "source": [
    "import pandas as pd"
   ]
  },
  {
   "cell_type": "code",
   "execution_count": 84,
   "id": "123050d2",
   "metadata": {},
   "outputs": [
    {
     "data": {
      "text/plain": [
       "['hello python.',\n",
       " 'hello python is programming language.',\n",
       " 'python is object oriented language.']"
      ]
     },
     "execution_count": 84,
     "metadata": {},
     "output_type": "execute_result"
    }
   ],
   "source": [
    "doc"
   ]
  },
  {
   "cell_type": "code",
   "execution_count": 85,
   "id": "069c15a5",
   "metadata": {},
   "outputs": [
    {
     "data": {
      "text/html": [
       "<div>\n",
       "<style scoped>\n",
       "    .dataframe tbody tr th:only-of-type {\n",
       "        vertical-align: middle;\n",
       "    }\n",
       "\n",
       "    .dataframe tbody tr th {\n",
       "        vertical-align: top;\n",
       "    }\n",
       "\n",
       "    .dataframe thead th {\n",
       "        text-align: right;\n",
       "    }\n",
       "</style>\n",
       "<table border=\"1\" class=\"dataframe\">\n",
       "  <thead>\n",
       "    <tr style=\"text-align: right;\">\n",
       "      <th></th>\n",
       "      <th>hello</th>\n",
       "      <th>is</th>\n",
       "      <th>language</th>\n",
       "      <th>object</th>\n",
       "      <th>oriented</th>\n",
       "      <th>programming</th>\n",
       "      <th>python</th>\n",
       "    </tr>\n",
       "  </thead>\n",
       "  <tbody>\n",
       "    <tr>\n",
       "      <th>hello python.</th>\n",
       "      <td>1</td>\n",
       "      <td>0</td>\n",
       "      <td>0</td>\n",
       "      <td>0</td>\n",
       "      <td>0</td>\n",
       "      <td>0</td>\n",
       "      <td>1</td>\n",
       "    </tr>\n",
       "    <tr>\n",
       "      <th>hello python is programming language.</th>\n",
       "      <td>1</td>\n",
       "      <td>1</td>\n",
       "      <td>1</td>\n",
       "      <td>0</td>\n",
       "      <td>0</td>\n",
       "      <td>1</td>\n",
       "      <td>1</td>\n",
       "    </tr>\n",
       "    <tr>\n",
       "      <th>python is object oriented language.</th>\n",
       "      <td>0</td>\n",
       "      <td>1</td>\n",
       "      <td>1</td>\n",
       "      <td>1</td>\n",
       "      <td>1</td>\n",
       "      <td>0</td>\n",
       "      <td>1</td>\n",
       "    </tr>\n",
       "  </tbody>\n",
       "</table>\n",
       "</div>"
      ],
      "text/plain": [
       "                                       hello  is  language  object  oriented  \\\n",
       "hello python.                              1   0         0       0         0   \n",
       "hello python is programming language.      1   1         1       0         0   \n",
       "python is object oriented language.        0   1         1       1         1   \n",
       "\n",
       "                                       programming  python  \n",
       "hello python.                                    0       1  \n",
       "hello python is programming language.            1       1  \n",
       "python is object oriented language.              0       1  "
      ]
     },
     "execution_count": 85,
     "metadata": {},
     "output_type": "execute_result"
    }
   ],
   "source": [
    "pd.DataFrame(x.toarray(),columns=list(count.get_feature_names_out()),index=[doc[0],doc[1],doc[2]])"
   ]
  },
  {
   "cell_type": "code",
   "execution_count": null,
   "id": "c17d3392",
   "metadata": {},
   "outputs": [],
   "source": []
  }
 ],
 "metadata": {
  "kernelspec": {
   "display_name": "Python 3 (ipykernel)",
   "language": "python",
   "name": "python3"
  },
  "language_info": {
   "codemirror_mode": {
    "name": "ipython",
    "version": 3
   },
   "file_extension": ".py",
   "mimetype": "text/x-python",
   "name": "python",
   "nbconvert_exporter": "python",
   "pygments_lexer": "ipython3",
   "version": "3.11.5"
  }
 },
 "nbformat": 4,
 "nbformat_minor": 5
}
