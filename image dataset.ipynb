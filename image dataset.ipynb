{
 "cells": [
  {
   "cell_type": "code",
   "execution_count": 1,
   "id": "e8643f60",
   "metadata": {},
   "outputs": [],
   "source": [
    "import numpy as np\n",
    "import cv2\n",
    "import os"
   ]
  },
  {
   "cell_type": "code",
   "execution_count": 2,
   "id": "1bff6ac6",
   "metadata": {},
   "outputs": [],
   "source": [
    "a=os.listdir('C:/Users/PC/Downloads/images')"
   ]
  },
  {
   "cell_type": "code",
   "execution_count": 3,
   "id": "d07f2cb1",
   "metadata": {},
   "outputs": [
    {
     "data": {
      "text/plain": [
       "['pexels-alex-montes-1820563.jpg',\n",
       " 'pexels-eberhard-grossgasteiger-1624504.jpg',\n",
       " 'pexels-eberhard-grossgasteiger-2086622.jpg',\n",
       " 'pexels-eberhard-grossgasteiger-2088172.jpg',\n",
       " 'pexels-eberhard-grossgasteiger-534164.jpg',\n",
       " 'pexels-eberhard-grossgasteiger-707344.jpg',\n",
       " 'pexels-irina-iriser-1381679.jpg',\n",
       " 'pexels-janez-podnar-1424239.jpg',\n",
       " 'pexels-lucas-allmann-612891.jpg']"
      ]
     },
     "execution_count": 3,
     "metadata": {},
     "output_type": "execute_result"
    }
   ],
   "source": [
    "a"
   ]
  },
  {
   "cell_type": "code",
   "execution_count": 4,
   "id": "781b7c95",
   "metadata": {
    "scrolled": true
   },
   "outputs": [
    {
     "name": "stdout",
     "output_type": "stream",
     "text": [
      "1\n",
      "2\n",
      "3\n",
      "4\n",
      "5\n",
      "6\n",
      "7\n",
      "8\n",
      "9\n"
     ]
    }
   ],
   "source": [
    "for i in a:\n",
    "    img=cv2.imread('C:/Users/PC/Downloads/images/'+i)\n",
    "    img1=cv2.resize(img,(600,500))\n",
    "    cv2.imshow('Images',img1)\n",
    "    cv2.waitKey(1000)\n",
    "cv2.destroyAllWindows()"
   ]
  },
  {
   "cell_type": "code",
   "execution_count": 5,
   "id": "d83fd73f",
   "metadata": {},
   "outputs": [],
   "source": [
    "img=cv2.imread('C:/Users/PC/Downloads/images/pexels-lucas-allmann-612891.jpg')\n",
    "img=cv2.resize(img,(1280,720))\n",
    "cv2.imshow('Image',img)\n",
    "cv2.waitKey(0)\n",
    "cv2.destroyAllWindows()"
   ]
  },
  {
   "cell_type": "code",
   "execution_count": 12,
   "id": "b3504c2b",
   "metadata": {},
   "outputs": [
    {
     "data": {
      "text/plain": [
       "['pexels-alex-montes-1820563.jpg',\n",
       " 'pexels-eberhard-grossgasteiger-1624504.jpg',\n",
       " 'pexels-eberhard-grossgasteiger-2086622.jpg',\n",
       " 'pexels-eberhard-grossgasteiger-2088172.jpg',\n",
       " 'pexels-eberhard-grossgasteiger-534164.jpg',\n",
       " 'pexels-eberhard-grossgasteiger-707344.jpg',\n",
       " 'pexels-irina-iriser-1381679.jpg',\n",
       " 'pexels-janez-podnar-1424239.jpg',\n",
       " 'pexels-lucas-allmann-612891.jpg']"
      ]
     },
     "execution_count": 12,
     "metadata": {},
     "output_type": "execute_result"
    }
   ],
   "source": [
    "os.listdir(r'C:\\Users\\PC\\Downloads\\images')"
   ]
  },
  {
   "cell_type": "code",
   "execution_count": null,
   "id": "00b75fd5",
   "metadata": {},
   "outputs": [],
   "source": []
  },
  {
   "cell_type": "code",
   "execution_count": 6,
   "id": "853ed12d",
   "metadata": {},
   "outputs": [],
   "source": [
    "import numpy as np\n",
    "import cv2\n",
    "import os"
   ]
  },
  {
   "cell_type": "code",
   "execution_count": 13,
   "id": "59ef9a22",
   "metadata": {},
   "outputs": [],
   "source": [
    "height=720\n",
    "width=1280\n",
    "channel=3\n",
    "fps=10\n",
    "sec=5\n",
    "fourcc=cv2.VideoWriter_fourcc(*'MP4V')\n",
    "video=cv2.VideoWriter('Image_to_video.mp4',fourcc,float(fps),(width,height))\n",
    "directory=r'C:\\Users\\PC\\Downloads\\images'\n",
    "img_name_list=os.listdir(directory)\n",
    "for i in range(fps*sec):\n",
    "    img_name=np.random.choice(img_name_list)\n",
    "    img_path=os.path.join(directory,img_name)\n",
    "    img=cv2.imread(img_path)\n",
    "    img_resize=cv2.resize(img,(800,600))\n",
    "    video.write(img_resize)\n",
    "video.release()"
   ]
  },
  {
   "cell_type": "code",
   "execution_count": null,
   "id": "e691a630",
   "metadata": {},
   "outputs": [],
   "source": [
    "import cv2 as cv\n",
    "import os\n",
    "camera=cv.VideoCapture(0)\n",
    "if not camera.isOpened():\n",
    "    print('Camera is Not Opening...')\n",
    "    exit()\n",
    "Labels=['Background','Stone','Paper','Scissor']\n",
    "for label in Labels:\n",
    "    if not os.path.exists(label):\n",
    "        os.mkdir(label)\n",
    "for folder in Labels:\n",
    "    count=0\n",
    "    print('press s to start data collection for '+folder)\n",
    "    userinput=input()\n",
    "    if userinput!='s':\n",
    "        print('Wrong Input')\n",
    "        exit()\n",
    "    while count<200:\n",
    "        status,frame=camera.read()\n",
    "        if not status:\n",
    "            print('Frame is not captured...')\n",
    "            break\n",
    "        cv.imshow('Video Window',frame)\n",
    "        img=cv.resize(frame,(800,600))\n",
    "        cv.imwrite('C:/Users/Nikhil Chauhan/OneDrive/Desktop/'+folder+'/img'+str(count)+'.jpg',img)\n",
    "        count+=1\n",
    "        if cv.waitKey(1)==ord('q'):\n",
    "            break\n",
    "camera.release()\n",
    "cv.destroyAllWindows()"
   ]
  }
 ],
 "metadata": {
  "kernelspec": {
   "display_name": "Python 3 (ipykernel)",
   "language": "python",
   "name": "python3"
  },
  "language_info": {
   "codemirror_mode": {
    "name": "ipython",
    "version": 3
   },
   "file_extension": ".py",
   "mimetype": "text/x-python",
   "name": "python",
   "nbconvert_exporter": "python",
   "pygments_lexer": "ipython3",
   "version": "3.11.5"
  }
 },
 "nbformat": 4,
 "nbformat_minor": 5
}
